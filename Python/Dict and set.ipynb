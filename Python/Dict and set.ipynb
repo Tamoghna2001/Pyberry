{
 "cells": [
  {
   "cell_type": "markdown",
   "id": "182b0d7b",
   "metadata": {},
   "source": [
    "# Dict and set in Python\n",
    "\n",
    "## Python Dictionaries :\n",
    "Dictionaries are used to store data values in key:value pairs. A dictionary is a collection which is **ordered** (As of Python version 3.7) , **changeable** and **does not allow duplicates**. The values in dictionary items can be of any data type:\n",
    "\n",
    "**Example :**\n",
    " "
   ]
  },
  {
   "cell_type": "code",
   "execution_count": 3,
   "id": "1a60b4ff",
   "metadata": {},
   "outputs": [
    {
     "name": "stdout",
     "output_type": "stream",
     "text": [
      "{'brand': 'Ford', 'electric': False, 'year': 1964, 'colors': ['red', 'white', 'blue']}\n"
     ]
    }
   ],
   "source": [
    "# Create and print a dictionary:\n",
    "thisdict = {\n",
    "  \"brand\": \"Ford\",\n",
    "  \"electric\": False,\n",
    "  \"year\": 1964,\n",
    "  \"colors\": [\"red\", \"white\", \"blue\"]\n",
    "}\n",
    "print(thisdict)"
   ]
  },
  {
   "cell_type": "markdown",
   "id": "64a7c804",
   "metadata": {},
   "source": [
    "## Sets :\n",
    "Sets are used to store multiple items in a single variable.A set is a collection which is **unordered**, **unchangeable**, and **unindexed**.Sets are written with curly brackets.\n",
    "\n",
    "**Example :**"
   ]
  },
  {
   "cell_type": "code",
   "execution_count": 4,
   "id": "e05ef5c9",
   "metadata": {},
   "outputs": [
    {
     "name": "stdout",
     "output_type": "stream",
     "text": [
      "{'apple', 'banana', 'cherry'}\n"
     ]
    }
   ],
   "source": [
    "#create and print a set :\n",
    "thisset = {\"apple\", \"banana\", \"cherry\"}\n",
    "print(thisset)"
   ]
  }
 ],
 "metadata": {
  "kernelspec": {
   "display_name": "Python 3",
   "language": "python",
   "name": "python3"
  },
  "language_info": {
   "codemirror_mode": {
    "name": "ipython",
    "version": 3
   },
   "file_extension": ".py",
   "mimetype": "text/x-python",
   "name": "python",
   "nbconvert_exporter": "python",
   "pygments_lexer": "ipython3",
   "version": "3.8.8"
  }
 },
 "nbformat": 4,
 "nbformat_minor": 5
}
