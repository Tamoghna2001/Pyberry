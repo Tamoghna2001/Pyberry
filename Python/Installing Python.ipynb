{
 "cells": [
  {
   "cell_type": "markdown",
   "id": "5dbfc260",
   "metadata": {},
   "source": [
    "# Installing Python"
   ]
  },
  {
   "cell_type": "markdown",
   "id": "69f78da7",
   "metadata": {},
   "source": [
    "## Steps:"
   ]
  },
  {
   "cell_type": "markdown",
   "id": "7bf2f6c4",
   "metadata": {},
   "source": [
    "1. Open <a href=\"python.org\">python.org</a>\n",
    "2. Move your arrow to Downloads and press on the latest version of Python(3.10.0 now in October 2021)\n",
    "   <img src=\"https://github.com/amitrakshar01/Pyberry/blob/main/Python/Assets/%232/1.png?raw=true\"><br>\n",
    "3. Open the file downloaded and install, make sure to \"add to path\"\n",
    "4. Search Edit Environment Variables in your pc --> press Environment variables --> click path on Edit System Variables --> Click edit --> press new --> minimize the window and open file explorer\n",
    "   <img src=\"https://github.com/amitrakshar01/Pyberry/blob/main/Python/Assets/%232/2.png?raw=true\"><br>\n",
    "5. Click on the folder where you have downloaded Python and copy the path of the Lib folder.\n",
    "6. Paste that path to system variable, that is open the minimized window and Ctrl+v.\n",
    "   <img src=\"https://github.com/amitrakshar01/Pyberry/blob/main/Python/Assets/%232/3.png?raw=true\"><br>"
   ]
  },
  {
   "cell_type": "markdown",
   "id": "2770bd20",
   "metadata": {},
   "source": [
    "Thats how Python is installed on your device.\n",
    "\n",
    "<img src=\"https://www.python.org/static/img/python-logo@2x.png\">"
   ]
  }
 ],
 "metadata": {
  "kernelspec": {
   "display_name": "Python 3 (ipykernel)",
   "language": "python",
   "name": "python3"
  },
  "language_info": {
   "codemirror_mode": {
    "name": "ipython",
    "version": 3
   },
   "file_extension": ".py",
   "mimetype": "text/x-python",
   "name": "python",
   "nbconvert_exporter": "python",
   "pygments_lexer": "ipython3",
   "version": "3.8.5"
  }
 },
 "nbformat": 4,
 "nbformat_minor": 5
}
