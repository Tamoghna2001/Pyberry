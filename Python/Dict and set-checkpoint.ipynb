{
 "cells": [
  {
   "cell_type": "markdown",
   "id": "26838e76",
   "metadata": {},
   "source": [
    "# Dictionary and set in Python\n",
    "\n",
    "## Dictionary :\n",
    "Dictionaries are used to store data values in key:value pairs. A dictionary is a collection which is **ordered** (As of Python version 3.7) , **changeable** and **does not allow duplicates**. The values in dictionary items can be of any data type:\n",
    "\n",
    "**Example :**\n",
    " "
   ]
  },
  {
   "cell_type": "code",
   "execution_count": 2,
   "id": "85164bcc",
   "metadata": {},
   "outputs": [],
   "source": [
    "# Create and print a dictionary:\n",
    "thisdict = {\n",
    "  \"brand\": \"Ford\",\n",
    "  \"electric\": False,\n",
    "  \"year\": 1964,\n",
    "  \"colors\": [\"red\", \"white\", \"blue\"]\n",
    "}\n",
    "print(thisdict)"
   ]
  },
  {
   "cell_type": "code",
   "execution_count": null,
   "id": "56cd4937",
   "metadata": {},
   "outputs": [],
   "source": []
  }
 ],
 "metadata": {
  "kernelspec": {
   "display_name": "Python 3",
   "language": "python",
   "name": "python3"
  },
  "language_info": {
   "codemirror_mode": {
    "name": "ipython",
    "version": 3
   },
   "file_extension": ".py",
   "mimetype": "text/x-python",
   "name": "python",
   "nbconvert_exporter": "python",
   "pygments_lexer": "ipython3",
   "version": "3.8.8"
  }
 },
 "nbformat": 4,
 "nbformat_minor": 5
}
