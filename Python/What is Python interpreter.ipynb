{
 "cells": [
  {
   "cell_type": "code",
   "execution_count": null,
   "metadata": {},
   "outputs": [],
   "source": [
    "Interpreters can directly work on executing the code instructions inside a code. \n",
    "Python is an interpreter language. \n",
    "Thus we have different versions of python interpreters introduced to us each next day. \n",
    "Every such new version fulfils some purpose which the older version lacks. \n",
    "Unlike compilers interprters do not need to convert the source code to machine level code to work and execute with. \n",
    "Some of the python IDE s have preinstalled interpreters in them such as VS Code, Idle. \n",
    "Whereas some do not have and we have to install the interpreter version in our pc separately like in Pycharm. \n",
    "Other than python we have some other interpreter programming languages like Ruby, Javascript. \n",
    "Another difference between interpreter and compiler is that compiler takes the whole program at one go and converts the whole \n",
    "source code to machine level code whereas interpreters take one line of code at a time."
   ]
  },
  {
   "cell_type": "code",
   "execution_count": null,
   "metadata": {},
   "outputs": [],
   "source": [
    "https://drive.google.com/file/d/1Bo_LS9IiZplnx01WPzHfsIGICG6AZ-Vi/view?usp=sharing"
   ]
  }
 ],
 "metadata": {
  "kernelspec": {
   "display_name": "Python 3",
   "language": "python",
   "name": "python3"
  },
  "language_info": {
   "codemirror_mode": {
    "name": "ipython",
    "version": 3
   },
   "file_extension": ".py",
   "mimetype": "text/x-python",
   "name": "python",
   "nbconvert_exporter": "python",
   "pygments_lexer": "ipython3",
   "version": "3.8.5"
  }
 },
 "nbformat": 4,
 "nbformat_minor": 4
}
