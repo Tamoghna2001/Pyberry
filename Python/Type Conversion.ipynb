{
 "cells": [
  {
   "cell_type": "markdown",
   "id": "c46e0057",
   "metadata": {},
   "source": [
    "# Type Conversion"
   ]
  },
  {
   "cell_type": "markdown",
   "id": "1ba33d6e",
   "metadata": {},
   "source": [
    "The simple meaning of type conversion in Python is to convert the data type of one variable to another. There are two types of type conversion in python:\n",
    "\n",
    "1. Implicit Type Conversion\n",
    "2. Explicit Type Conversion"
   ]
  },
  {
   "cell_type": "markdown",
   "id": "ab6217b5",
   "metadata": {},
   "source": [
    "## Implicit Type Conversion"
   ]
  },
  {
   "cell_type": "markdown",
   "id": "42ccd533",
   "metadata": {},
   "source": [
    "In implicit type conversion, the python interpreter changes the data type of the variable on its own without any user intervention.\n",
    "\n",
    "E.g.\n",
    "\n",
    "x = 12<br>\n",
    " \n",
    "print(\"x is of type:\",type(x))<br>\n",
    " \n",
    "y = 10.6<br>\n",
    "print(\"y is of type:\",type(y))<br>\n",
    " \n",
    "x = x + y<br>\n",
    " \n",
    "print(x)<br>\n",
    "print(\"x is of type:\",type(x))<br>\n",
    "\n",
    "\n",
    "In this, x --> int; y --> float; the output is float so the initial value of x has been type converted to float without any external code."
   ]
  },
  {
   "cell_type": "markdown",
   "id": "498dac3a",
   "metadata": {},
   "source": [
    "## Explicit Type Conversion"
   ]
  },
  {
   "cell_type": "markdown",
   "id": "e838619d",
   "metadata": {},
   "source": [
    "In Explicit Type Conversion, the user manually changes the data type of the variable.\n",
    "\n",
    "int(s,base) --> Converts to int variable; base is the number denoting the base of the number system; 2 means binary\n",
    "float() --> Converts to float\n",
    "\n",
    "E.g.\n",
    "\n",
    "s = \"10010\"<br> \n",
    "\n",
    "c = int(s,2)<br>\n",
    "print (\"After converting to integer base 2 : \", end=\"\")<br>\n",
    "                                                         \n",
    "print (c)<br>\n",
    " \n",
    "e = float(s)<br>\n",
    "print (\"After converting to float : \", end=\"\")<br>\n",
    "print (e)<br>\n"
   ]
  }
 ],
 "metadata": {
  "kernelspec": {
   "display_name": "Python 3 (ipykernel)",
   "language": "python",
   "name": "python3"
  },
  "language_info": {
   "codemirror_mode": {
    "name": "ipython",
    "version": 3
   },
   "file_extension": ".py",
   "mimetype": "text/x-python",
   "name": "python",
   "nbconvert_exporter": "python",
   "pygments_lexer": "ipython3",
   "version": "3.8.5"
  }
 },
 "nbformat": 4,
 "nbformat_minor": 5
}
